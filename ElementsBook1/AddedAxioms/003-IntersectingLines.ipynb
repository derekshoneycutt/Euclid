{
 "cells": [
  {
   "attachments": {},
   "cell_type": "markdown",
   "metadata": {},
   "source": [
    "# Euclid Book 1, Additional Axiom 3\n",
    "\n",
    "When two straight lines [[Def I.4]](../Definitions/004-StraightLine.ipynb) overlap, they overlap in exactly one point [[Def I.1]](../Definitions/001-Point.ipynb), called *intersection*."
   ]
  },
  {
   "cell_type": "code",
   "execution_count": null,
   "metadata": {},
   "outputs": [],
   "source": [
    "include(\"../../Euclid.jl\");"
   ]
  },
  {
   "cell_type": "code",
   "execution_count": null,
   "metadata": {},
   "outputs": [],
   "source": [
    "#setup the chart space...\n",
    "f = Figure()\n",
    "ax = Axis(f[1,1], aspect=DataAspect(), title=\"Euclid's Elements Book I, Added Axiom 2: Highlighting Line\")\n",
    "xlims!(ax, -1,1)\n",
    "ylims!(ax, -1,1)\n",
    "\n",
    "\n",
    "# Describe and draw the line\n",
    "text!(Point2f(-0.8, 0.8), text=\"A line may be highlighted in its location in space.\")\n",
    "A = line(Point2f(-0.25,-0.25), Point2f(0.25,0.25))\n",
    "show_complete(A)\n",
    "\n",
    "#Highlight the line in space\n",
    "A_highlight = highlight(A, width=10f0)\n",
    "\n",
    "# Draw the animation!\n",
    "framerate = 24\n",
    "d_s = 24\n",
    "t_rots = 2π\n",
    "timestamps = range(0,t_rots, step=t_rots/(d_s*framerate))\n",
    "\n",
    "display_gif(record(f, \"gifs/002-LineHighlight.gif\", timestamps; framerate=framerate) do t\n",
    "\n",
    "    # Animate highlighting the line\n",
    "    animate(A_highlight, 0.5f0π, 1f0π, 1.5f0π, t)\n",
    "end)"
   ]
  }
 ],
 "metadata": {
  "kernelspec": {
   "display_name": "Julia 1.8.1",
   "language": "julia",
   "name": "julia-1.8"
  },
  "language_info": {
   "file_extension": ".jl",
   "mimetype": "application/julia",
   "name": "julia",
   "version": "1.8.1"
  },
  "orig_nbformat": 4
 },
 "nbformat": 4,
 "nbformat_minor": 2
}
