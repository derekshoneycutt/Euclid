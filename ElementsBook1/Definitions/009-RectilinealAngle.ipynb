{
 "cells": [
  {
   "attachments": {},
   "cell_type": "markdown",
   "metadata": {},
   "source": [
    "# Euclid Book 1, Definition 9\n",
    "\n",
    "And when the lines [[Def I.2]](./002-Line.ipynb) containing the angle [[Def I.8]](./008-PlaneAngle.ipynb) are straight [[Def I.4]](./004-StraightLine.ipynb), the angle is called *rectilineal*."
   ]
  },
  {
   "cell_type": "code",
   "execution_count": 3,
   "metadata": {},
   "outputs": [],
   "source": [
    "using Euclid\n",
    "using GLMakie"
   ]
  },
  {
   "cell_type": "code",
   "execution_count": 4,
   "metadata": {},
   "outputs": [
    {
     "ename": "UndefVarError",
     "evalue": "UndefVarError: highlight_rectilineal not defined",
     "output_type": "error",
     "traceback": [
      "UndefVarError: highlight_rectilineal not defined\n",
      "\n",
      "Stacktrace:\n",
      " [1] top-level scope\n",
      "   @ /mnt/linux_mint/home/derek/repos/Euclid/ElementsBook1/Definitions/009-RectilinealAngle.ipynb:23"
     ]
    }
   ],
   "source": [
    "#setup the chart space...\n",
    "set_theme!(theme_dark())\n",
    "f = Figure()\n",
    "ax = euclid_axis(f[1,1], title=\"Euclid's Elements Book I, Definition 9: Rectilineal Angle\")\n",
    "xlims!(ax, -1,1)\n",
    "ylims!(ax, -1,1)\n",
    "\n",
    "# Describe and draw the line\n",
    "axislegend(ax,\n",
    "           [[line_legend(start_y=0f0, end_y=0.65f0, color=:steelblue),\n",
    "             line_legend(start_y=0f0, end_y=0f0, color=:steelblue)],\n",
    "            [line_legend(start_y=0f0, end_y=0.65f0, color=:steelblue),\n",
    "             line_legend(start_y=0f0, end_y=0f0, color=:steelblue),\n",
    "             line_legend(start_y=0f0, end_y=0.65f0, color=:pink, linewidth=2f0, linestyle=:dot),\n",
    "             line_legend(start_y=0f0, end_y=0f0, color=:pink, linewidth=2f0, linestyle=:dot)]],\n",
    "           [L\"\\text{And when the lines containing the angle}\",\n",
    "            L\"\\text{are straight, the angle is called \\textit{rectilineal}}\"])\n",
    "\n",
    "A = plane_angle(Point2f(-0.25,-0.25), 0.75f0, 0.75f0, 0.35f0π, color=:steelblue)\n",
    "show_complete(A)\n",
    "\n",
    "#Highlight the line in space\n",
    "A_highlight = highlight_rectilineal(A, 5, color=:pink)\n",
    "\n",
    "# Draw the animation!\n",
    "framerate = 24\n",
    "d_s = 24\n",
    "t_rots = 2π\n",
    "timestamps = range(0,t_rots, step=t_rots/(d_s*framerate))\n",
    "\n",
    "display_gif(record(f, \"gifs/009-RectilinealAngle.gif\", timestamps; framerate=framerate) do t\n",
    "\n",
    "    # Animate highlighting the angle as rectilineal!\n",
    "    animate(A_highlight, 0f0π, 2f0π, t)\n",
    "end)"
   ]
  }
 ],
 "metadata": {
  "kernelspec": {
   "display_name": "Julia 1.8.3",
   "language": "julia",
   "name": "julia-1.8"
  },
  "language_info": {
   "file_extension": ".jl",
   "mimetype": "application/julia",
   "name": "julia",
   "version": "1.8.3"
  },
  "orig_nbformat": 4
 },
 "nbformat": 4,
 "nbformat_minor": 2
}
